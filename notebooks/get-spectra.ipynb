{
 "cells": [
  {
   "cell_type": "markdown",
   "id": "3926bcbf-2060-48a4-92e2-6ee962ea84be",
   "metadata": {},
   "source": [
    "This is a notebook file for obtaining spectra to train HARPSpec from the ESO TAP service.\n",
    "\n",
    "This notebook requires PyVO to be installed to run properly."
   ]
  },
  {
   "cell_type": "code",
   "execution_count": null,
   "id": "f8646144",
   "metadata": {},
   "outputs": [],
   "source": [
    "import numpy as np\n",
    "\n",
    "from pyvo.dal import tap\n",
    "from astropy.io import ascii\n",
    "\n",
    "from tqdm import tqdm\n",
    "import requests"
   ]
  },
  {
   "cell_type": "code",
   "execution_count": null,
   "id": "22048b58",
   "metadata": {},
   "outputs": [],
   "source": [
    "def get_targets(file, target_header='Star'):\n",
    "    labels = ascii.read(file)\n",
    "    return np.array(labels[target_header])"
   ]
  },
  {
   "cell_type": "code",
   "execution_count": null,
   "id": "e799cb42",
   "metadata": {},
   "outputs": [],
   "source": [
    "tapobs = tap.TAPService(\"http://archive.eso.org/tap_obs\")\n",
    "\n",
    "def get_dpids( targets, count, fil ):\n",
    "    \n",
    "    dpids = []\n",
    "    \n",
    "    for target in tqdm(targets, desc=\"Retrieving DP ID's\", leave=False):\n",
    "        query = \"\"\"SELECT TOP %i *\n",
    "        FROM ivoa.ObsCore\n",
    "        WHERE obs_collection='HARPS'\n",
    "        AND target_name='%s'\n",
    "        AND obs_release_date < getdate()\n",
    "        ORDER BY snr DESC\"\"\" %(count, target)\n",
    "\n",
    "        res = tapobs.search(query=query)\n",
    "\n",
    "        for spec in res:\n",
    "            if fil(spec):\n",
    "                dpids.append(spec['dp_id'])\n",
    "                \n",
    "    return np.array(dpids)"
   ]
  },
  {
   "cell_type": "code",
   "execution_count": null,
   "id": "175a77ea",
   "metadata": {},
   "outputs": [],
   "source": [
    "def download_spectra( dp_ids, folder ):\n",
    "    for dp_id in tqdm(dp_ids, desc = 'Downloading Data Products'):\n",
    "        url = \"http://archive.eso.org/datalink/links?ID=ivo://eso.org/ID?%s&eso_download=file\" %dp_id\n",
    "        response = requests.get(url, stream=True)\n",
    "        with open(\"%s/%s.fits\" %(folder, dp_id), \"wb\") as file:\n",
    "            for data in response.iter_content():\n",
    "                file.write(data)"
   ]
  },
  {
   "cell_type": "code",
   "execution_count": null,
   "id": "d22b7810-6ca9-423a-a5d5-51a45396e235",
   "metadata": {},
   "outputs": [],
   "source": [
    "label_file = '<csv file with targets and labels here>'\n",
    "folder = '<destination folder>'\n",
    "\n",
    "dp_ids = get_dpids(targets, 1, lambda x: True)\n",
    "download_spectra( dp_ids, folder )"
   ]
  }
 ],
 "metadata": {
  "kernelspec": {
   "display_name": "Python 3 (ipykernel)",
   "language": "python",
   "name": "python3"
  },
  "language_info": {
   "codemirror_mode": {
    "name": "ipython",
    "version": 3
   },
   "file_extension": ".py",
   "mimetype": "text/x-python",
   "name": "python",
   "nbconvert_exporter": "python",
   "pygments_lexer": "ipython3",
   "version": "3.10.9"
  }
 },
 "nbformat": 4,
 "nbformat_minor": 5
}
