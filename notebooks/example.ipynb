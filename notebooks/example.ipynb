{
 "cells": [
  {
   "cell_type": "code",
   "execution_count": null,
   "id": "3535a7b0-4bc8-4b0e-b625-f23137b8e27c",
   "metadata": {},
   "outputs": [],
   "source": [
    "# Import needed libraries\n",
    "\n",
    "import harpspec\n",
    "\n",
    "import pickle as pkl\n",
    "import numpy as np"
   ]
  },
  {
   "cell_type": "code",
   "execution_count": null,
   "id": "7d64247d-df48-4031-a64b-e6aec0ab6694",
   "metadata": {},
   "outputs": [],
   "source": [
    "# Training a model\n",
    "\n",
    "# The notebook 'get-spectra.ipynb' is provided to download spectra for training.\n",
    "\n",
    "dataset = harpspec.collate('<folder with fits files for training>')\n",
    "\n",
    "labels, label_names = harpspec.load_labels('<file with labels>')\n",
    "dataset_labeled = harpspec.match(dataset, labels)\n",
    "\n",
    "with open('<pickle with pipeline parameters>', 'rb') as f:\n",
    "    params = pkl.load(f)\n",
    "\n",
    "training_data = harpspec.process(dataset_labeled, params)\n",
    "\n",
    "# For testing purposes, reduces RAM usage to reasonable levels.\n",
    "training_data.flux = training_data.flux[:,100000:120000]\n",
    "training_data.ivar = training_data.ivar[:,100000:120000]\n",
    "\n",
    "hs_model = harpspec.train(training_data)"
   ]
  },
  {
   "cell_type": "code",
   "execution_count": null,
   "id": "3f8fdabe-06ae-4767-b787-5847958b025c",
   "metadata": {},
   "outputs": [],
   "source": [
    "# Inferring labels using a model\n",
    "\n",
    "dataset_infer = harpspec.collate('<fits file or folder with fits files>')\n",
    "\n",
    "dataset_infer_processed = harpspec.process(dataset_infer, params)\n",
    "\n",
    "# For testing purposes, reduces RAM usage to reasonable levels.\n",
    "dataset_infer_processed.flux = dataset_infer_processed.flux[:,100000:120000]\n",
    "dataset_infer_processed.ivar = dataset_infer_processed.ivar[:,100000:120000]\n",
    "\n",
    "dataset_inferred = harpspec.infer(dataset_infer_processed, hs_model)"
   ]
  }
 ],
 "metadata": {
  "kernelspec": {
   "display_name": "Python 3 (ipykernel)",
   "language": "python",
   "name": "python3"
  },
  "language_info": {
   "codemirror_mode": {
    "name": "ipython",
    "version": 3
   },
   "file_extension": ".py",
   "mimetype": "text/x-python",
   "name": "python",
   "nbconvert_exporter": "python",
   "pygments_lexer": "ipython3",
   "version": "3.10.9"
  }
 },
 "nbformat": 4,
 "nbformat_minor": 5
}
