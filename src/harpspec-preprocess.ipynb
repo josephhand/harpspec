{
 "cells": [
  {
   "cell_type": "code",
   "execution_count": null,
   "id": "d39d6f3e",
   "metadata": {},
   "outputs": [],
   "source": [
    "import TheCannon\n",
    "from TheCannon import dataset\n",
    "\n",
    "import os\n",
    "\n",
    "import numpy as np\n",
    "\n",
    "import astropy.io.fits as pyfits\n",
    "import astropy.io.ascii as ascii\n",
    "\n",
    "from TheCannon.apogee import get_pixmask\n",
    "\n",
    "from tqdm.notebook import trange, tqdm\n",
    "\n",
    "from figsave import savefig as savefig\n",
    "\n",
    "import matplotlib.pyplot as plt"
   ]
  },
  {
   "cell_type": "code",
   "execution_count": null,
   "id": "d0e10682-8f9b-4166-b064-4dfae4a235e7",
   "metadata": {},
   "outputs": [],
   "source": [
    "plt.rcParams.update({\n",
    "    \"text.usetex\": True,\n",
    "    \"font.family\": 'serif',\n",
    "    \"font.serif\": [\"Computer Modern\"],\n",
    "    \"font.size\": 10,\n",
    "    \"figure.dpi\": 200\n",
    "})"
   ]
  },
  {
   "cell_type": "code",
   "execution_count": null,
   "id": "0500defc",
   "metadata": {},
   "outputs": [],
   "source": [
    "def wl_to_idx(wl, wl_arr):\n",
    "    return int((wl - wl_arr[0]) / (wl_arr[1] - wl_arr[0]))\n",
    "\n",
    "def get_ranges(wl):\n",
    "    factor = len(wl)/313230\n",
    "    return [[0, int(152262 * factor)], [int(155557 * factor), len(wl) - 1]]"
   ]
  },
  {
   "cell_type": "code",
   "execution_count": null,
   "id": "5596576f",
   "metadata": {},
   "outputs": [],
   "source": [
    "def load_spectrum(file): \n",
    "    with pyfits.open(file) as fits:\n",
    "        target = fits[1].header[\"TITLE\"]\n",
    "        wl = fits[1].data[0][0]\n",
    "        flux = fits[1].data[0][1]\n",
    "\n",
    "        scalefactor = fits[0].header[\"SNR\"] / np.nanmedian(np.sqrt(flux))\n",
    "        snr = scalefactor * np.sqrt(flux.ravel())\n",
    "        std = flux / snr\n",
    "\n",
    "        badpix = get_pixmask(flux, std)\n",
    "        ivar = np.zeros(len(flux))\n",
    "        ivar[~badpix] = 1.0 / std[~badpix]**2\n",
    "\n",
    "    return (target, wl, flux, ivar)\n",
    "\n",
    "data_dir = '../data/fits_SNR0'\n",
    "\n",
    "files = list(sorted([data_dir + \"/\" + filename for filename in os.listdir(data_dir) if not filename.startswith('.') ]))\n",
    "nstars = len(files)\n",
    "\n",
    "data = np.array([ load_spectrum(file) for file in tqdm(files) ], dtype=object)"
   ]
  },
  {
   "cell_type": "code",
   "execution_count": null,
   "id": "c5d957c0",
   "metadata": {},
   "outputs": [],
   "source": [
    "targets = np.array(data[:,0])\n",
    "wl = np.array(data[:,1], dtype=object)\n",
    "flux = np.array(data[:,2], dtype=object)\n",
    "ivar = np.array(data[:,3], dtype=object)"
   ]
  },
  {
   "cell_type": "code",
   "execution_count": null,
   "id": "6ba79947",
   "metadata": {},
   "outputs": [],
   "source": [
    "label_data = ascii.read('../data/HARPS_masterlist_use.csv')\n",
    "label_ids = label_data['Star']\n",
    "label_inds = label_ids.argsort()\n",
    "label_ids = label_ids[label_inds]\n",
    "\n",
    "label_headers = ('Teff', 'logg', 'vsini',\n",
    "                 '[Fe/H]_master', '[Na/H]c_master',\n",
    "                 '[Mg/H]_master', '[Al/H]c_master',\n",
    "                 '[Si/H]_master', '[Ca/H]_master',\n",
    "                 '[V/H]c_master', '[Mn/H]_master',\n",
    "                 '[Co/H]c_master', '[O/H]_master',\n",
    "                 '[Ni/H]_master', '[C/H]_master',\n",
    "                 '[ScI/H]c_master', '[TiI/H]c_master',\n",
    "                 '[CrI/H]_master', '[YII/H]_DM17',\n",
    "                 '[S/H]_master')\n",
    "\n",
    "labels = np.array([ label_data[header] for header in label_headers ])[:,label_inds].T"
   ]
  },
  {
   "cell_type": "code",
   "execution_count": null,
   "id": "592776af",
   "metadata": {},
   "outputs": [],
   "source": [
    "#print(np.where(np.array(list(map(lambda a: 'CD-436810'.startswith(a), label_ids))) == True)[0])\n",
    "#print(np.where(np.array(list(map(lambda a: 'r'.startswith(a), label_ids))) == True)[0])\n",
    "\n",
    "twl = np.nonzero([ len(np.where(np.array(list(map(lambda a: t.startswith(a), label_ids))) == True)[0]) for t in tqdm(targets) ])\n",
    "tls = [ np.where(np.array(list(map(lambda a: t.startswith(a), label_ids))) == True)[0][0] for t in tqdm(targets[twl]) ]\n",
    "\n",
    "targets = targets[twl]\n",
    "wl = wl[twl]\n",
    "flux = flux[twl]\n",
    "ivar = ivar[twl]\n",
    "\n",
    "labels = labels[tls]"
   ]
  },
  {
   "cell_type": "code",
   "execution_count": null,
   "id": "42a82682",
   "metadata": {},
   "outputs": [],
   "source": [
    "min_wl = min([ k[0] for k in wl ])\n",
    "max_wl = max([ k[len(k) - 1] for k in wl ])\n",
    "\n",
    "new_wl = np.arange(min_wl, max_wl, 0.01)\n",
    "    \n",
    "flux = np.array([ np.interp(new_wl, wl[i], flux[i], left=0, right=0)\n",
    "    for i in trange(0, len(wl)) ])\n",
    "\n",
    "ivar = np.array([ np.interp(new_wl, wl[i], ivar[i], left=0, right=0)\n",
    "    for i in trange(0, len(wl)) ])\n",
    "    \n",
    "wl = new_wl\n",
    "\n",
    "flux_orig = np.copy(flux[0:4])"
   ]
  },
  {
   "cell_type": "code",
   "execution_count": null,
   "id": "19b4e29f",
   "metadata": {},
   "outputs": [],
   "source": [
    "template_shift = 0\n",
    "\n",
    "flux[0] = np.interp(wl * (1 + template_shift), wl, flux[0], left=0, right=0)\n",
    "ivar[0] = np.interp(wl * (1 + template_shift), wl, ivar[0], left=0, right=0)"
   ]
  },
  {
   "cell_type": "code",
   "execution_count": null,
   "id": "6e95b242",
   "metadata": {},
   "outputs": [],
   "source": [
    "def align_spectrum(wl, flux, ivar, t_flux, lines = (np.array(range(0,18)) * 100 + 4000), width = 30):\n",
    "    \n",
    "    wl_ranges = np.array(\n",
    "            [ wl[wl_to_idx(line - width, wl):wl_to_idx(line + width, wl)]\n",
    "                for line in lines ])\n",
    "    \n",
    "    flux_ranges = np.array(\n",
    "            [ flux[wl_to_idx(line - width, wl):wl_to_idx(line + width, wl)]\n",
    "                for line in lines ])\n",
    "    t_flux_ranges = np.array(\n",
    "            [ t_flux[wl_to_idx(line - width, wl):wl_to_idx(line + width, wl)]\n",
    "                for line in lines ])\n",
    "    z = np.median([ \n",
    "        (np.correlate(flux_ranges[i] - flux_ranges[i].mean(),\n",
    "        t_flux_ranges[i] - t_flux_ranges[i].mean(), mode=\"full\").argmax() -\n",
    "        len(flux_ranges[i])) * 0.01 / lines[i]\n",
    "        \n",
    "        for i in range(0, len(lines))\n",
    "    ])\n",
    "\n",
    "    new_flux = np.interp(wl * (1 + z), wl, flux, left=0, right=0)\n",
    "    new_ivar = np.interp(wl * (1 + z), wl, ivar, left=0, right=0)\n",
    "\n",
    "    return new_flux, new_ivar\n",
    "    \n",
    "for i in trange(1, len(flux)):\n",
    "    flux[i], ivar[i] = align_spectrum(wl, flux[i], ivar[i], flux[0])"
   ]
  },
  {
   "cell_type": "code",
   "execution_count": null,
   "id": "edd96259",
   "metadata": {},
   "outputs": [],
   "source": [
    "\n",
    "def bin_flux(flux, ivar):\n",
    "    if np.sum(ivar)==0:\n",
    "        return np.mean(flux)\n",
    "    return np.average(flux, weights=ivar)\n",
    "\n",
    "def downsample_wl(wl, amount):\n",
    "\n",
    "    discard = len(wl) % amount\n",
    "\n",
    "    if discard != 0:\n",
    "        wl = np.delete(wl, range(-discard - 1, -1))\n",
    "\n",
    "    wl = wl.reshape(-1, amount)\n",
    "\n",
    "    wl_b = np.mean(wl, axis=1)\n",
    "\n",
    "    return wl_b\n",
    "\n",
    "def downsample_spectrum(flux, ivar, amount):\n",
    "\n",
    "    discard = len(flux) % amount\n",
    "\n",
    "    if discard != 0:\n",
    "        flux = np.delete(flux, range(-discard - 1, -1))\n",
    "        ivar = np.delete(ivar, range(-discard - 1, -1))\n",
    "\n",
    "    ivar = ivar.reshape(-1, amount)\n",
    "    flux = flux.reshape(-1, amount)\n",
    "\n",
    "    ivar_b = np.sqrt(np.sum(ivar**2, axis=1))\n",
    "    flux_b = np.array([bin_flux(f, w) for f,w in zip(flux, ivar)])\n",
    "\n",
    "    return (flux_b, ivar_b)\n",
    "\n",
    "\n",
    "dwl = downsample_wl(wl, 10)\n",
    "\n",
    "downsampled = np.array([ downsample_spectrum(flux[i], ivar[i], 10) for i in trange(0, len(flux)) ])\n",
    "\n",
    "dflux = downsampled[:,0]\n",
    "divar = downsampled[:,1]"
   ]
  },
  {
   "cell_type": "code",
   "execution_count": null,
   "id": "621ba4bf",
   "metadata": {},
   "outputs": [],
   "source": [
    "ds = dataset.Dataset(dwl, targets, dflux, divar, labels, np.array(['']), np.array([[0] * len(dwl)]), np.array([[0] * len(dwl)]))\n",
    "\n",
    "ds.ranges = get_ranges(dwl)\n",
    "\n",
    "p_flux, p_ivar = ds.continuum_normalize_training_q(q=0.9, delta_lambda=50)\n",
    "\n",
    "contmask = ds.make_contmask(p_flux, p_ivar, frac=0.07)\n",
    "\n",
    "ds.set_continuum(contmask)\n",
    "\n",
    "cont = ds.fit_continuum(3, \"sinusoid\")\n",
    "\n",
    "norm_flux, norm_ivar, _, _ = ds.continuum_normalize(cont)\n",
    "\n",
    "dcont_flux = dflux/norm_flux\n",
    "dcont_ivar = divar/norm_ivar\n",
    "\n",
    "cont_flux = np.array([ np.interp(wl, dwl, dcont_flux[i]) for i in range(0, len(dcont_flux)) ])\n",
    "cont_ivar = np.array([ np.interp(wl, dwl, dcont_ivar[i]) for i in range(0, len(dcont_ivar)) ])\n",
    "\n",
    "flux = flux/cont_flux\n",
    "ivar = ivar/cont_ivar\n",
    "\n",
    "ivar[np.isnan(flux)] = 0\n",
    "ivar[np.isnan(ivar)] = 0\n",
    "flux[np.isnan(flux)] = 0\n"
   ]
  },
  {
   "cell_type": "code",
   "execution_count": null,
   "id": "3998ed8a",
   "metadata": {},
   "outputs": [],
   "source": [
    "import pickle as pkl\n",
    "\n",
    "with open(\"data_small.pkl\", \"wb\") as f:\n",
    "    pkl.dump((wl, targets, flux, ivar, labels), f)"
   ]
  },
  {
   "cell_type": "code",
   "execution_count": null,
   "id": "704842e3-995f-4526-a6f5-382750a7ddea",
   "metadata": {},
   "outputs": [],
   "source": [
    "wl = downsample_wl(wl, 2)"
   ]
  },
  {
   "cell_type": "code",
   "execution_count": null,
   "id": "b78cd88d-e593-4bda-b94a-5c63a19275b4",
   "metadata": {},
   "outputs": [],
   "source": [
    "flux, ivar = np.array([ downsample_spectrum(flux[i], ivar[i], 2) for i in trange(0, len(flux)) ])"
   ]
  }
 ],
 "metadata": {
  "kernelspec": {
   "display_name": "Python 3 (ipykernel)",
   "language": "python",
   "name": "python3"
  },
  "language_info": {
   "codemirror_mode": {
    "name": "ipython",
    "version": 3
   },
   "file_extension": ".py",
   "mimetype": "text/x-python",
   "name": "python",
   "nbconvert_exporter": "python",
   "pygments_lexer": "ipython3",
   "version": "3.10.9"
  }
 },
 "nbformat": 4,
 "nbformat_minor": 5
}
