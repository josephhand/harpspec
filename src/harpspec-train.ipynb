{
 "cells": [
  {
   "cell_type": "code",
   "execution_count": null,
   "id": "5bdf0f5f",
   "metadata": {
    "tags": []
   },
   "outputs": [],
   "source": [
    "import numpy as np\n",
    "import matplotlib.pyplot as plt\n",
    "from TheCannon import dataset\n",
    "from TheCannon import model\n",
    "from tqdm import tqdm\n",
    "\n",
    "import pymem\n",
    "from figsave import savefig as savefig"
   ]
  },
  {
   "cell_type": "code",
   "execution_count": null,
   "id": "c7ee96e7",
   "metadata": {
    "tags": []
   },
   "outputs": [],
   "source": [
    "plt.rcParams.update({\n",
    "    \"text.usetex\": True,\n",
    "    \"font.family\": 'serif',\n",
    "    \"font.serif\": [\"Computer Modern\"],\n",
    "    \"font.size\": 10,\n",
    "    \"figure.dpi\": 200\n",
    "})"
   ]
  },
  {
   "cell_type": "code",
   "execution_count": null,
   "id": "c004a131",
   "metadata": {},
   "outputs": [],
   "source": [
    "import pickle as pkl\n",
    "\n",
    "with open(\"data_large.pkl\", \"rb\") as f:\n",
    "    data = pkl.load(f)\n",
    "    \n",
    "data = np.array(data, dtype=object)"
   ]
  },
  {
   "cell_type": "code",
   "execution_count": null,
   "id": "7bdd8ffc",
   "metadata": {},
   "outputs": [],
   "source": [
    "label_select = np.array(range(0,20))\n",
    "#label_select = np.array(range(0,8))"
   ]
  },
  {
   "cell_type": "code",
   "execution_count": null,
   "id": "398e75d2-5caf-42d5-affc-ab39269d8f95",
   "metadata": {},
   "outputs": [],
   "source": [
    "wl_full = np.array(data[0])\n",
    "targets = data[1]\n",
    "flux_full = np.array(data[2], dtype=float)\n",
    "ivar_full = np.array(data[3])\n",
    "labels = np.array(data[4])[:,label_select]"
   ]
  },
  {
   "cell_type": "code",
   "execution_count": null,
   "id": "54585b96-3ba1-46eb-81f4-e8213bb1ed91",
   "metadata": {},
   "outputs": [],
   "source": [
    "bad_pix = flux_full > 1.1\n",
    "flux_full[bad_pix] = 0\n",
    "ivar_full[bad_pix] = 0\n",
    "\n",
    "bad_pix = flux_full < 0\n",
    "flux_full[bad_pix] = 0\n",
    "ivar_full[bad_pix] = 0"
   ]
  },
  {
   "cell_type": "code",
   "execution_count": null,
   "id": "2e1cd3e6-49c9-4ee7-8e6a-9c6d1c96d1e9",
   "metadata": {},
   "outputs": [],
   "source": [
    "blacklist = [\n",
    "    'HD26965A_HARPS.2006-11-09T07:00:52.905_s1d_A',\n",
    "    'HD72374_HARPS.2009-04-01T00:41:51.307_s1d_A',\n",
    "    'HD131183_HARPS.2011-08-04T23:58:04.312_s1d_A',\n",
    "    'HD26965A_HARPS.2011-12-04T03:37:00.086_s1d_A',\n",
    "    'HD10647_HARPS.2011-12-29T00:42:06.216_s1d_A',\n",
    "    'HD26965A_HARPS.2011-12-06T04:46:32.270_s1d_A',\n",
    "    'HD151933_HARPS.2012-08-31T01:35:01.979_s1d_A',\n",
    "    'HD114613_HARPS.2004-02-14T06:42:56.756_s1d_A',\n",
    "    'HD65907A_HARPS.2015-12-05T06:52:13.596_s1d_A',\n",
    "    'HD19994_HARPS.2016-01-10T03:16:38.232_s1d_A',\n",
    "    'HD114613_HARPS.2017-02-14T07:46:36.285_s1d_A',\n",
    "    'HD82114_HARPS.2018-04-02T02:52:02.509_s1d_A',\n",
    "    'HD93932_HARPS.2018-04-02T05:24:31.488_s1d_A', \n",
    "    'HD82114_HARPS.2018-04-02T03:33:04.344_s1d_A',\n",
    "    'HD85725_HARPS.2018-04-02T04:51:10.528_s1d_A',\n",
    "    'HD93932_HARPS.2018-04-02T05:58:14.379_s1d_A'\n",
    "]"
   ]
  },
  {
   "cell_type": "code",
   "execution_count": null,
   "id": "ec0f1d78-b7e5-4363-85e9-58b3b998d232",
   "metadata": {},
   "outputs": [],
   "source": [
    "blacklist_idx = np.array([ np.where(targets == bad)[0][0] for bad in blacklist ], dtype=int)\n",
    "print(blacklist_idx)"
   ]
  },
  {
   "cell_type": "code",
   "execution_count": null,
   "id": "d4bafe9c-622a-44bc-8dfe-8caee3662745",
   "metadata": {},
   "outputs": [],
   "source": [
    "targets = np.delete(targets, blacklist_idx)\n",
    "flux_full = np.delete(flux_full, blacklist_idx, axis=0)\n",
    "ivar_full = np.delete(ivar_full, blacklist_idx, axis=0)\n",
    "labels = np.delete(labels, blacklist_idx, axis=0)"
   ]
  },
  {
   "cell_type": "code",
   "execution_count": null,
   "id": "f63c932d-fe0e-4854-88e9-0db2ad0aa69a",
   "metadata": {},
   "outputs": [],
   "source": [
    "num_stars = len(targets)\n",
    "\n",
    "num_test = int(num_stars * 0.2)\n",
    "\n",
    "print(\"%d stars in dataset.\" %num_stars)\n",
    "print(\"%d stars used in testing.\" %num_test)"
   ]
  },
  {
   "cell_type": "code",
   "execution_count": null,
   "id": "cb710bad-9053-48a2-8dcb-3fe3f6dc2bba",
   "metadata": {},
   "outputs": [],
   "source": [
    "ranges = np.linspace(0, 1, 17) * len(wl_full)\n",
    "\n",
    "ranges = np.array(ranges, dtype=int)\n",
    "\n",
    "range_num = 5\n",
    "wl_range = slice(ranges[range_num], ranges[range_num+1])\n",
    "\n",
    "print(wl_range)"
   ]
  },
  {
   "cell_type": "code",
   "execution_count": null,
   "id": "000f949a-013f-42f3-b2ab-ddb65b93e7c5",
   "metadata": {
    "tags": []
   },
   "outputs": [],
   "source": [
    "wl = wl_full[wl_range]\n",
    "flux = flux_full[:,wl_range]\n",
    "ivar = ivar_full[:,wl_range]\n",
    "\n",
    "print(\"WL range: %.2f to %.2f\" %(wl[0], wl[-1]))"
   ]
  },
  {
   "cell_type": "code",
   "execution_count": null,
   "id": "cef0b93d",
   "metadata": {},
   "outputs": [],
   "source": [
    "targets_train = targets[num_test:num_stars]\n",
    "flux_train = flux[num_test:num_stars]\n",
    "ivar_train = ivar[num_test:num_stars]\n",
    "labels_train = labels[num_test:num_stars]\n",
    "\n",
    "targets_test = targets[:num_test]\n",
    "flux_test = flux[:num_test]\n",
    "ivar_test = ivar[:num_test]\n",
    "labels_test = labels[:num_test]"
   ]
  },
  {
   "cell_type": "code",
   "execution_count": null,
   "id": "5311c50e",
   "metadata": {},
   "outputs": [],
   "source": [
    "label_names = np.array(('T_{eff}', '\\log g', 'v \\sin i', '[Fe/H]', '[Na/H]', '[Mg/H]', '[Al/H]', '[Si/H]', '[Ca/H]', '[V/H]', '[Mn/H]', '[Co/H]', '[O/H]', '[Ni/h]', '[C/H]', '[ScI/H]', '[TiI/H]', '[CrI/H]', '[YII/H]', '[S/H]'))[label_select]\n",
    "label_units = np.array(['K', 'dex', 'km/s'] + ['dex']*17)\n",
    "print(','.join(label_names))"
   ]
  },
  {
   "cell_type": "code",
   "execution_count": null,
   "id": "5b03431a",
   "metadata": {},
   "outputs": [],
   "source": [
    "ds = dataset.Dataset(\n",
    "    wl,\n",
    "    targets_train, flux_train, ivar_train, labels_train,\n",
    "    targets_test, flux_test, ivar_test\n",
    ")\n",
    "ds.set_label_names(label_names)"
   ]
  },
  {
   "cell_type": "code",
   "execution_count": null,
   "id": "e5dca04e",
   "metadata": {},
   "outputs": [],
   "source": [
    "memlogger = pymem.MemLogger(0.1)\n",
    "memlogger.start()\n",
    "\n",
    "md = model.CannonModel(2, useErrors=False)\n",
    "md.fit(ds)"
   ]
  },
  {
   "cell_type": "code",
   "execution_count": null,
   "id": "a7dc90be",
   "metadata": {},
   "outputs": [],
   "source": [
    "md.infer_labels(ds)\n",
    "\n",
    "memlogger.stop()"
   ]
  },
  {
   "cell_type": "code",
   "execution_count": null,
   "id": "4231119f",
   "metadata": {},
   "outputs": [],
   "source": [
    "memlog = np.array(memlogger.get_log())\n",
    "\n",
    "fig = plt.figure(figsize=(4,3))\n",
    "                \n",
    "ax = fig.add_subplot()\n",
    "\n",
    "ax.plot(memlog[:,0] - memlog[0,0], memlog[:,1]/2**30)\n",
    "\n",
    "ax.set_ylabel(r'RAM Usage ($GiB$)')\n",
    "ax.set_xlabel(r'Time ($s$)')"
   ]
  },
  {
   "cell_type": "code",
   "execution_count": null,
   "id": "759c2eca-b0c2-4709-98ea-5e9778b6f1b4",
   "metadata": {},
   "outputs": [],
   "source": [
    "print(np.max(memlog) / 2**30 * 16)"
   ]
  },
  {
   "cell_type": "code",
   "execution_count": null,
   "id": "ab81f0f9",
   "metadata": {},
   "outputs": [],
   "source": [
    "residuals = ds.test_label_vals - labels_test\n",
    "\n",
    "residuals = np.sort(residuals, axis=0)\n",
    "\n",
    "lower_limits = residuals[int(0.16*num_test),:]\n",
    "upper_limits = residuals[int(0.84*num_test),:]\n",
    "\n",
    "robust_stds = upper_limits - lower_limits\n",
    "\n",
    "print(upper_limits - lower_limits)"
   ]
  },
  {
   "cell_type": "code",
   "execution_count": null,
   "id": "b20df3ee-2879-468f-883f-aa8012b3f177",
   "metadata": {},
   "outputs": [],
   "source": [
    "from datetime import datetime\n",
    "\n",
    "with open('range_results_robust.csv', 'a') as file:\n",
    "    timestamp = datetime.now().strftime(\"%Y-%m-%d-%H%M%S\")\n",
    "    data = np.array([timestamp, range_num] + robust_stds.tolist(), dtype=str)\n",
    "    file.write(','.join(data) + '\\n')"
   ]
  },
  {
   "cell_type": "code",
   "execution_count": null,
   "id": "56910039-e952-46b4-bf77-03f64afa306f",
   "metadata": {},
   "outputs": [],
   "source": [
    "from figsave import savefig\n",
    "\n",
    "#fig, ax = plt.subplots(5,4)\n",
    "\n",
    "fig = plt.figure(figsize=(10, 5))\n",
    "gs = fig.add_gridspec(3,4,hspace=0.2, wspace=0.15, left=0.08, right=0.95, bottom=0.1, top=0.95)\n",
    "\n",
    "ax = []\n",
    "\n",
    "for i in range(0, 12):\n",
    "    ax.append(fig.add_subplot(gs[int(i/4), i % 4]))\n",
    "\n",
    "for i in range(0,len(ax)):\n",
    "    ax[i].plot(labels_test[:,i], ds.test_label_vals[:,i], '.')\n",
    "    ax[i].plot((np.min(labels_test[:,i]), np.max(labels_test[:,i])),(np.min(labels_test[:,i]), np.max(labels_test[:,i])))\n",
    "    ax[i].legend(title=r'$%s$' %(label_names[i]), loc=0)\n",
    "    \n",
    "fig.supylabel(r'Residuals')\n",
    "fig.supxlabel(r'Literature Value')\n",
    "\n",
    "\n",
    "savefig(fig, 'results')"
   ]
  },
  {
   "cell_type": "code",
   "execution_count": null,
   "id": "50bfc94f",
   "metadata": {},
   "outputs": [],
   "source": [
    "from figsave import savefig\n",
    "\n",
    "#fig, ax = plt.subplots(5,4)\n",
    "\n",
    "fig = plt.figure()\n",
    "gs = fig.add_gridspec(5,4,hspace=0.15, wspace=0.2, left=0.06, right=0.95, bottom=0.05, top=0.95)\n",
    "\n",
    "ax = []\n",
    "\n",
    "for i in range(0, 20):\n",
    "    ax.append(fig.add_subplot(gs[int(i/4), i % 4]))\n",
    "\n",
    "print(ax[0])\n",
    "\n",
    "for i in range(0,len(label_select)):\n",
    "    ax[i].plot(labels_test[:,i], residuals[:,i], '.')\n",
    "    ax[i].plot(labels_test[:,i], [0]*len(residuals))\n",
    "    ax[i].fill_between(\n",
    "        (np.min(labels_test[:,i]), np.max(labels_test[:,i])),\n",
    "        [-2*np.std(residuals[:,i])]*2,\n",
    "        [2*np.std(residuals[:,i])]*2,\n",
    "        color='orange',\n",
    "        alpha=0.3\n",
    "    )\n",
    "    ax[i].legend(title=r'$%s$ ($\\sigma=%.2f$)' %(label_names[i], np.std(residuals[:,i])), loc=3)\n",
    "    \n",
    "fig.supylabel(r'Residuals')\n",
    "fig.supxlabel(r'Literature Value')\n",
    "\n",
    "fig.set_figwidth(15)\n",
    "fig.set_figheight(12)\n",
    "\n",
    "#savefig(fig, 'residuals_range-%d' %range_num)"
   ]
  },
  {
   "cell_type": "code",
   "execution_count": null,
   "id": "1fecf6ef-09dc-4f47-a71e-af55af91384f",
   "metadata": {},
   "outputs": [],
   "source": [
    "with open('data_large_labels.pkl', 'wb') as f:\n",
    "    pkl.dump((targets_train, targets_test, labels_train, labels_test, ds.test_label_vals), f)"
   ]
  },
  {
   "cell_type": "code",
   "execution_count": null,
   "id": "cfa31225-0333-46aa-b980-0715734b6614",
   "metadata": {},
   "outputs": [],
   "source": [
    "fig = plt.figure(figsize=(15, 9))\n",
    "\n",
    "gs = fig.add_gridspec(4, 5, hspace=0.3, wspace=0.25, left=0.07, right=0.93, bottom=0.07, top=0.93)\n",
    "\n",
    "gs_spots = []\n",
    "\n",
    "for y in range(0, 4):\n",
    "    for x in range(0, 5):\n",
    "        gs_spots += [gs[y, x]]\n",
    "\n",
    "\n",
    "ls = range(20)\n",
    "\n",
    "for i in range(len(gs_spots)):\n",
    "    ax = fig.add_subplot(gs_spots[i])\n",
    "    ax.plot(labels_test[:,ls[i]], ds.test_label_vals[:,ls[i]], '.', ms=2)\n",
    "    min_l = np.min(labels_test[:,ls[i]])\n",
    "    max_l = np.max(labels_test[:,ls[i]])\n",
    "    ax.plot((min_l, max_l), (min_l, max_l))\n",
    "    ax.text(\n",
    "        0.04, 0.9,\n",
    "        r'$\\sigma=%.2f %s$' %(robust_stds[ls[i]], label_units[ls[i]]),\n",
    "        transform=ax.transAxes\n",
    "    )\n",
    "    ax.set_title('$%s$ ($%s$)' %(label_names[ls[i]], label_units[ls[i]]), fontsize=9)\n",
    "\n",
    "fig.supxlabel('Literature Labels')\n",
    "fig.supylabel('Cannon-Derived Labels')\n",
    "\n",
    "savefig(fig, 'robust-residuals-range4')"
   ]
  }
 ],
 "metadata": {
  "kernelspec": {
   "display_name": "Python 3 (ipykernel)",
   "language": "python",
   "name": "python3"
  },
  "language_info": {
   "codemirror_mode": {
    "name": "ipython",
    "version": 3
   },
   "file_extension": ".py",
   "mimetype": "text/x-python",
   "name": "python",
   "nbconvert_exporter": "python",
   "pygments_lexer": "ipython3",
   "version": "3.10.9"
  }
 },
 "nbformat": 4,
 "nbformat_minor": 5
}
